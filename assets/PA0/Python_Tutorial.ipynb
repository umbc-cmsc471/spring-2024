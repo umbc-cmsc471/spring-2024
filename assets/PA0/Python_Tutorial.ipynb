{
  "nbformat": 4,
  "nbformat_minor": 0,
  "metadata": {
    "colab": {
      "provenance": []
    },
    "kernelspec": {
      "name": "python3",
      "display_name": "Python 3"
    },
    "language_info": {
      "name": "python"
    }
  },
  "cells": [
    {
      "cell_type": "markdown",
      "source": [
        "# Introduction\n",
        "\n",
        "The projects for this class assume you use Python 3.6.\n",
        "\n",
        "Project 0 will cover the following:\n",
        "\n",
        "\n",
        "\n",
        "1.   This notebook which is a mini-python tutorial, which gives the instructions on how to set up and use basic python codes on a Jupyter notbook.\n",
        "2.   some light exercises in [tutorial.zip](https://umbc-cmsc471.github.io/spring2024/assets/PA0/tutorial.zip)\n",
        "\n",
        "\n",
        "\n",
        "**Files to Edit and Submit**: You will fill in portions of `addition.py`, `buyLotsOfFruit.py`, and `shopSmart.py` in [tutorial.zip](https://umbc-cmsc471.github.io/spring2024/assets/PA0/tutorial.zip) during the assignment. You should submit the completed python codes in gradescope.\n",
        "\n",
        "**Academic Dishonesty**: We will be checking your code against other submissions in the class for logical redundancy. If you copy someone else’s code and submit it with minor changes, we will know. These cheat detectors are quite hard to fool, so please don’t try. We trust you all to submit your own work only; please don’t let us down. If you do, we will pursue the strongest consequences available to us.\n",
        "\n",
        "**Getting Help**: You are not alone! If you find yourself stuck on something, contact the course staff for help. Office hours, section, and the discussion forum are there for your support; please use them. If you can’t make our office hours, let us know and we will schedule more. We want these projects to be rewarding and instructional, not frustrating and demoralizing. But, we don’t know when or how to help unless you ask.\n",
        "\n",
        "**Discussion**: Please be careful not to post spoilers.\n"
      ],
      "metadata": {
        "id": "7yw3rd6STyeN"
      }
    },
    {
      "cell_type": "markdown",
      "source": [
        "### **Courtesy**: *this notebook was adapted from Introduction to AI, University of California, Berkeley*"
      ],
      "metadata": {
        "id": "3X4gv3S-EZ5t"
      }
    },
    {
      "cell_type": "markdown",
      "source": [
        "# Operators\n",
        "\n",
        "The Python interpreter can be used to evaluate expressions, for example simple arithmetic expressions. If you enter such expressions at the prompt (>>>) they will be evaluated and the result will be returned on the next line."
      ],
      "metadata": {
        "id": "-15jcWHHXryM"
      }
    },
    {
      "cell_type": "code",
      "source": [
        "1 + 1"
      ],
      "metadata": {
        "id": "yA9ns9QhXpjM"
      },
      "execution_count": null,
      "outputs": []
    },
    {
      "cell_type": "code",
      "execution_count": null,
      "metadata": {
        "id": "6zfajRHVR9kf"
      },
      "outputs": [],
      "source": [
        "2 * 3"
      ]
    },
    {
      "cell_type": "markdown",
      "source": [
        "# Boolean operators\n",
        "also exist in Python to manipulate the primitive True and False values."
      ],
      "metadata": {
        "id": "ixX5t8deX7Ip"
      }
    },
    {
      "cell_type": "code",
      "source": [
        "1 == 0"
      ],
      "metadata": {
        "id": "OHaAooeBTy9s"
      },
      "execution_count": null,
      "outputs": []
    },
    {
      "cell_type": "code",
      "source": [
        "not (1 == 0)"
      ],
      "metadata": {
        "id": "s2cPUHozX5CP"
      },
      "execution_count": null,
      "outputs": []
    },
    {
      "cell_type": "code",
      "source": [
        "(2 == 2) and (2 == 3)"
      ],
      "metadata": {
        "id": "pySXGJi3YKRG"
      },
      "execution_count": null,
      "outputs": []
    },
    {
      "cell_type": "code",
      "source": [
        "(2 == 2) or (2 == 3)"
      ],
      "metadata": {
        "id": "8inxsP5LYKdc"
      },
      "execution_count": null,
      "outputs": []
    },
    {
      "cell_type": "markdown",
      "source": [
        "#Strings\n",
        "\n",
        "Like Java, Python has a built in string type. The + operator is overloaded to do string concatenation on string values."
      ],
      "metadata": {
        "id": "_42Z2SIXTyn9"
      }
    },
    {
      "cell_type": "code",
      "source": [
        "'artificial' + \"intelligence\""
      ],
      "metadata": {
        "id": "a-TWXbIsTzBk"
      },
      "execution_count": null,
      "outputs": []
    },
    {
      "cell_type": "markdown",
      "source": [
        "There are many built-in methods which allow you to manipulate strings."
      ],
      "metadata": {
        "id": "RnqvhZJKYfIe"
      }
    },
    {
      "cell_type": "code",
      "source": [
        "'artificial'.upper()"
      ],
      "metadata": {
        "id": "35QIU7hvYbDN"
      },
      "execution_count": null,
      "outputs": []
    },
    {
      "cell_type": "code",
      "source": [
        "'HELP'.lower()"
      ],
      "metadata": {
        "id": "9EfWLPpUYh2y"
      },
      "execution_count": null,
      "outputs": []
    },
    {
      "cell_type": "code",
      "source": [
        "len('Help')"
      ],
      "metadata": {
        "id": "p5wX-0j_Ykud"
      },
      "execution_count": null,
      "outputs": []
    },
    {
      "cell_type": "markdown",
      "source": [
        "Notice that we can use either single quotes ' ' or double quotes \" \" to surround string. This allows for easy nesting of strings.\n",
        "\n",
        "We can also store expressions into variables."
      ],
      "metadata": {
        "id": "zExEvLhiZXtX"
      }
    },
    {
      "cell_type": "code",
      "source": [
        " s = 'hello world'"
      ],
      "metadata": {
        "id": "DtQSW-a3Yj9f"
      },
      "execution_count": null,
      "outputs": []
    },
    {
      "cell_type": "code",
      "source": [
        "print(s)"
      ],
      "metadata": {
        "colab": {
          "base_uri": "https://localhost:8080/"
        },
        "id": "t6TMFNxsZar6",
        "outputId": "787b3a72-09ba-4d07-bcb6-c6ad1a785d16"
      },
      "execution_count": null,
      "outputs": [
        {
          "output_type": "stream",
          "name": "stdout",
          "text": [
            "hello world\n"
          ]
        }
      ]
    },
    {
      "cell_type": "code",
      "source": [
        "s.upper()"
      ],
      "metadata": {
        "id": "Y4Ps5GUlZbHr"
      },
      "execution_count": null,
      "outputs": []
    },
    {
      "cell_type": "code",
      "source": [
        "len(s.upper())"
      ],
      "metadata": {
        "id": "7C6ObJH6ZbZs"
      },
      "execution_count": null,
      "outputs": []
    },
    {
      "cell_type": "code",
      "source": [
        "num = 8.0"
      ],
      "metadata": {
        "id": "dHp5z-IuZhtM"
      },
      "execution_count": null,
      "outputs": []
    },
    {
      "cell_type": "code",
      "source": [
        " num += 2.5"
      ],
      "metadata": {
        "id": "TSNioh69Zify"
      },
      "execution_count": null,
      "outputs": []
    },
    {
      "cell_type": "code",
      "source": [
        "print(num)"
      ],
      "metadata": {
        "id": "iAPRsbcjZiqH"
      },
      "execution_count": null,
      "outputs": []
    },
    {
      "cell_type": "markdown",
      "source": [
        "In Python, you do not have declare variables before you assign to them."
      ],
      "metadata": {
        "id": "EHBJvgGdZsiO"
      }
    },
    {
      "cell_type": "markdown",
      "source": [
        "# Dir and Help\n",
        "\n",
        "Learn about the methods Python provides for strings. To see what methods Python provides for a datatype, use the dir and help commands:"
      ],
      "metadata": {
        "id": "zqJPpXjEZxVj"
      }
    },
    {
      "cell_type": "code",
      "source": [
        "s = 'abc'"
      ],
      "metadata": {
        "id": "PSXV7vRBZwTM"
      },
      "execution_count": null,
      "outputs": []
    },
    {
      "cell_type": "code",
      "source": [
        "dir(s)"
      ],
      "metadata": {
        "id": "L1_njjMkZp_b"
      },
      "execution_count": null,
      "outputs": []
    },
    {
      "cell_type": "code",
      "source": [
        "help(s.find)"
      ],
      "metadata": {
        "id": "7HoBw35EZ4ec"
      },
      "execution_count": null,
      "outputs": []
    },
    {
      "cell_type": "code",
      "source": [
        "s.find('b')"
      ],
      "metadata": {
        "id": "t8SUvX0EZ7dL"
      },
      "execution_count": null,
      "outputs": []
    },
    {
      "cell_type": "code",
      "source": [
        "fruits = ['apple', 'orange', 'pear', 'banana']"
      ],
      "metadata": {
        "id": "6SlK8hUJZ-u1"
      },
      "execution_count": null,
      "outputs": []
    },
    {
      "cell_type": "code",
      "source": [
        "fruits[0]"
      ],
      "metadata": {
        "id": "oQ_gGfaPaEwu"
      },
      "execution_count": null,
      "outputs": []
    },
    {
      "cell_type": "code",
      "source": [
        "otherFruits = ['kiwi', 'strawberry']"
      ],
      "metadata": {
        "id": "oC3iP_NLaGnz"
      },
      "execution_count": null,
      "outputs": []
    },
    {
      "cell_type": "code",
      "source": [
        "fruits + otherFruits"
      ],
      "metadata": {
        "id": "1SGd_-UvaP1q"
      },
      "execution_count": null,
      "outputs": []
    },
    {
      "cell_type": "markdown",
      "source": [
        "Python also allows negative-indexing from the back of the list. For instance, fruits[-1] will access the last element 'banana':"
      ],
      "metadata": {
        "id": "6FZLaNHSagpp"
      }
    },
    {
      "cell_type": "code",
      "source": [
        "fruits[-2]"
      ],
      "metadata": {
        "id": "hnYHMwuCaT6g"
      },
      "execution_count": null,
      "outputs": []
    },
    {
      "cell_type": "code",
      "source": [
        "fruits.pop()"
      ],
      "metadata": {
        "id": "65uk68mDajqy"
      },
      "execution_count": null,
      "outputs": []
    },
    {
      "cell_type": "code",
      "source": [
        " fruits"
      ],
      "metadata": {
        "id": "v7Dr8hPral1D"
      },
      "execution_count": null,
      "outputs": []
    },
    {
      "cell_type": "code",
      "source": [
        "fruits.append('grapefruit')"
      ],
      "metadata": {
        "id": "0OnabWR3aqXB"
      },
      "execution_count": null,
      "outputs": []
    },
    {
      "cell_type": "code",
      "source": [
        "fruits"
      ],
      "metadata": {
        "id": "hn67sclMasuc"
      },
      "execution_count": null,
      "outputs": []
    },
    {
      "cell_type": "code",
      "source": [
        "fruits[-1] = 'pineapple'"
      ],
      "metadata": {
        "id": "Dk2tpBadas2z"
      },
      "execution_count": null,
      "outputs": []
    },
    {
      "cell_type": "code",
      "source": [
        "fruits"
      ],
      "metadata": {
        "id": "-acBOr8CazYl"
      },
      "execution_count": null,
      "outputs": []
    },
    {
      "cell_type": "markdown",
      "source": [
        "We can also index multiple adjacent elements using the slice operator. For instance, fruits[1:3], returns a list containing the elements at position 1 and 2. In general fruits[start:stop] will get the elements in start, start+1, ..., stop-1. We can also do fruits[start:] which returns all elements starting from the start index. Also fruits[:end] will return all elements before the element at position end:"
      ],
      "metadata": {
        "id": "DdHW-PWFa4EH"
      }
    },
    {
      "cell_type": "code",
      "source": [
        "fruits[0:2]"
      ],
      "metadata": {
        "id": "UsFPdz_4a7uG"
      },
      "execution_count": null,
      "outputs": []
    },
    {
      "cell_type": "code",
      "source": [
        " fruits[:3]"
      ],
      "metadata": {
        "id": "wkpb8NTva-jY"
      },
      "execution_count": null,
      "outputs": []
    },
    {
      "cell_type": "code",
      "source": [
        "fruits[2:]"
      ],
      "metadata": {
        "id": "OAjVSjCNbCUu"
      },
      "execution_count": null,
      "outputs": []
    },
    {
      "cell_type": "code",
      "source": [
        "len(fruits)"
      ],
      "metadata": {
        "id": "FGgHJZopbFTj"
      },
      "execution_count": null,
      "outputs": []
    },
    {
      "cell_type": "markdown",
      "source": [
        "The items stored in lists can be any Python data type. So for instance we can have lists of lists:"
      ],
      "metadata": {
        "id": "kwLUepFDbLd0"
      }
    },
    {
      "cell_type": "code",
      "source": [
        "lstOfLsts = [['a', 'b', 'c'], [1, 2, 3], ['one', 'two', 'three']]"
      ],
      "metadata": {
        "id": "eFgJSdq-bIUr"
      },
      "execution_count": null,
      "outputs": []
    },
    {
      "cell_type": "code",
      "source": [
        "lstOfLsts[1][2]"
      ],
      "metadata": {
        "id": "zxOQTM9-bOk_"
      },
      "execution_count": null,
      "outputs": []
    },
    {
      "cell_type": "code",
      "source": [
        "lstOfLsts[0].pop()"
      ],
      "metadata": {
        "id": "Y3m821_kbQRP"
      },
      "execution_count": null,
      "outputs": []
    },
    {
      "cell_type": "code",
      "source": [
        "lstOfLsts"
      ],
      "metadata": {
        "id": "sRjppZ4SbSf-"
      },
      "execution_count": null,
      "outputs": []
    },
    {
      "cell_type": "markdown",
      "source": [
        "# Lists\n",
        "\n",
        "Play with some of the list functions. You can find the methods you can call on an object via the dir and get information about them via the help command:"
      ],
      "metadata": {
        "id": "WIhULNo9bYyk"
      }
    },
    {
      "cell_type": "code",
      "source": [
        "dir(list)"
      ],
      "metadata": {
        "id": "m7dmxqBibUTX"
      },
      "execution_count": null,
      "outputs": []
    },
    {
      "cell_type": "code",
      "source": [
        "help(list.reverse)"
      ],
      "metadata": {
        "id": "8_G6vY6PbchF"
      },
      "execution_count": null,
      "outputs": []
    },
    {
      "cell_type": "code",
      "source": [
        "lst = ['a', 'b', 'c']"
      ],
      "metadata": {
        "id": "CZmieeSebiq-"
      },
      "execution_count": null,
      "outputs": []
    },
    {
      "cell_type": "code",
      "source": [
        "lst.reverse()"
      ],
      "metadata": {
        "id": "aEs_dePRbn8T"
      },
      "execution_count": null,
      "outputs": []
    },
    {
      "cell_type": "code",
      "source": [
        "lst"
      ],
      "metadata": {
        "id": "D3L89rLMbqod"
      },
      "execution_count": null,
      "outputs": []
    },
    {
      "cell_type": "markdown",
      "source": [
        "# Tuples\n",
        "\n",
        "A data structure similar to the list is the tuple, which is like a list except that it is immutable once it is created (i.e. you cannot change its content once created). Note that tuples are surrounded with parentheses while lists have square brackets."
      ],
      "metadata": {
        "id": "-3Aa83s1bxek"
      }
    },
    {
      "cell_type": "code",
      "source": [
        "pair = (3, 5)"
      ],
      "metadata": {
        "id": "N5vpTPvJbuH5"
      },
      "execution_count": null,
      "outputs": []
    },
    {
      "cell_type": "code",
      "source": [
        "pair[0]"
      ],
      "metadata": {
        "id": "r0f186E-b0tk"
      },
      "execution_count": null,
      "outputs": []
    },
    {
      "cell_type": "code",
      "source": [
        "x, y = pair"
      ],
      "metadata": {
        "id": "LUsADGEUb6V9"
      },
      "execution_count": null,
      "outputs": []
    },
    {
      "cell_type": "code",
      "source": [
        " x"
      ],
      "metadata": {
        "id": "Iuzti7Jnb8je"
      },
      "execution_count": null,
      "outputs": []
    },
    {
      "cell_type": "code",
      "source": [
        "y"
      ],
      "metadata": {
        "id": "Z8p_Lfinb-CM"
      },
      "execution_count": null,
      "outputs": []
    },
    {
      "cell_type": "code",
      "source": [
        "pair[1] = 6"
      ],
      "metadata": {
        "id": "8sRSLc_mb_8P"
      },
      "execution_count": null,
      "outputs": []
    },
    {
      "cell_type": "markdown",
      "source": [
        "The attempt to modify an immutable structure raised an exception. Exceptions indicate errors: index out of bounds errors, type errors, and so on will all report exceptions in this way."
      ],
      "metadata": {
        "id": "Zp9OSOQQcKyz"
      }
    },
    {
      "cell_type": "markdown",
      "source": [
        "# Sets\n",
        "\n",
        "A set is another data structure that serves as an unordered list with no duplicate items. Below, we show how to create a set:"
      ],
      "metadata": {
        "id": "cSB69iw2cRAK"
      }
    },
    {
      "cell_type": "code",
      "source": [
        "shapes = ['circle', 'square', 'triangle', 'circle']"
      ],
      "metadata": {
        "id": "jOSeJ9GqcBqZ"
      },
      "execution_count": null,
      "outputs": []
    },
    {
      "cell_type": "code",
      "source": [
        "setOfShapes = set(shapes)"
      ],
      "metadata": {
        "id": "IgWjYVt5cCJB"
      },
      "execution_count": null,
      "outputs": []
    },
    {
      "cell_type": "markdown",
      "source": [
        "Another way of creating a set is shown below:\n",
        "\n",
        "    setOfShapes = {‘circle’, ‘square’, ‘triangle’, ‘circle’}\n",
        "\n",
        "Next, we show how to add things to the set, test if an item is in the set, and perform common set operations (difference, intersection, union):"
      ],
      "metadata": {
        "id": "aarO1igPccbX"
      }
    },
    {
      "cell_type": "code",
      "source": [
        "setOfShapes"
      ],
      "metadata": {
        "id": "AfcBC-EYcCRH"
      },
      "execution_count": null,
      "outputs": []
    },
    {
      "cell_type": "code",
      "source": [
        "setOfShapes.add('polygon')"
      ],
      "metadata": {
        "id": "E3LPjTIlcn_C"
      },
      "execution_count": null,
      "outputs": []
    },
    {
      "cell_type": "code",
      "source": [
        "setOfShapes"
      ],
      "metadata": {
        "id": "Q754lRuScof5"
      },
      "execution_count": null,
      "outputs": []
    },
    {
      "cell_type": "code",
      "source": [
        "'circle' in setOfShapes"
      ],
      "metadata": {
        "id": "n7x3IKh7conK"
      },
      "execution_count": null,
      "outputs": []
    },
    {
      "cell_type": "code",
      "source": [
        "'rhombus' in setOfShapes"
      ],
      "metadata": {
        "id": "iK6Sb8oBc1TI"
      },
      "execution_count": null,
      "outputs": []
    },
    {
      "cell_type": "code",
      "source": [
        "favoriteShapes = ['circle', 'triangle', 'hexagon']"
      ],
      "metadata": {
        "id": "f0weyJw1c33m"
      },
      "execution_count": null,
      "outputs": []
    },
    {
      "cell_type": "code",
      "source": [
        "setOfFavoriteShapes = set(favoriteShapes)"
      ],
      "metadata": {
        "id": "LCBP3-Ebc6HQ"
      },
      "execution_count": null,
      "outputs": []
    },
    {
      "cell_type": "code",
      "source": [
        "setOfShapes - setOfFavoriteShapes"
      ],
      "metadata": {
        "id": "cao8zULqc8Hu"
      },
      "execution_count": null,
      "outputs": []
    },
    {
      "cell_type": "code",
      "source": [
        "setOfShapes & setOfFavoriteShapes"
      ],
      "metadata": {
        "id": "14oG4t4wc-1J"
      },
      "execution_count": null,
      "outputs": []
    },
    {
      "cell_type": "code",
      "source": [
        "setOfShapes | setOfFavoriteShapes"
      ],
      "metadata": {
        "id": "qfNLwbaadB2V"
      },
      "execution_count": null,
      "outputs": []
    },
    {
      "cell_type": "markdown",
      "source": [
        "Note that the objects in the set are unordered; you cannot assume that their traversal or print order will be the same across machines!"
      ],
      "metadata": {
        "id": "an37N5LDdI_8"
      }
    },
    {
      "cell_type": "markdown",
      "source": [
        "# Dictionaries\n",
        "\n",
        "The last built-in data structure is the dictionary which stores a map from one type of object (the key) to another (the value). The key must be an immutable type (string, number, or tuple). The value can be any Python data type.\n",
        "\n",
        "Note: In the example below, the printed order of the keys returned by Python could be different than shown below. The reason is that unlike lists which have a fixed ordering, a dictionary is simply a hash table for which there is no fixed ordering of the keys (like HashMaps in Java). The order of the keys depends on how exactly the hashing algorithm maps keys to buckets, and will usually seem arbitrary. Your code should not rely on key ordering, and you should not be surprised if even a small modification to how your code uses a dictionary results in a new key ordering."
      ],
      "metadata": {
        "id": "9XbvlKsOdJUe"
      }
    },
    {
      "cell_type": "code",
      "source": [
        "studentIds = {'knuth': 42.0, 'turing': 56.0, 'nash': 92.0}"
      ],
      "metadata": {
        "id": "yEHcJ7wGdD72"
      },
      "execution_count": null,
      "outputs": []
    },
    {
      "cell_type": "code",
      "source": [
        "studentIds['turing']"
      ],
      "metadata": {
        "id": "WT23fBBJdSG2"
      },
      "execution_count": null,
      "outputs": []
    },
    {
      "cell_type": "code",
      "source": [
        "studentIds['nash'] = 'ninety-two'"
      ],
      "metadata": {
        "id": "LPCYHChtdS8n"
      },
      "execution_count": null,
      "outputs": []
    },
    {
      "cell_type": "code",
      "source": [
        " studentIds"
      ],
      "metadata": {
        "id": "pfTFcMDrdTFN"
      },
      "execution_count": null,
      "outputs": []
    },
    {
      "cell_type": "code",
      "source": [
        " del studentIds['knuth']"
      ],
      "metadata": {
        "id": "XpufmnxFdTNi"
      },
      "execution_count": null,
      "outputs": []
    },
    {
      "cell_type": "code",
      "source": [
        "studentIds"
      ],
      "metadata": {
        "id": "zQXUmP0cdcBz"
      },
      "execution_count": null,
      "outputs": []
    },
    {
      "cell_type": "code",
      "source": [
        "studentIds['knuth'] = [42.0, 'forty-two']"
      ],
      "metadata": {
        "id": "SUCIhdLzdeOI"
      },
      "execution_count": null,
      "outputs": []
    },
    {
      "cell_type": "code",
      "source": [
        "studentIds"
      ],
      "metadata": {
        "id": "i6GEyZkxde4e"
      },
      "execution_count": null,
      "outputs": []
    },
    {
      "cell_type": "code",
      "source": [
        "studentIds.keys()"
      ],
      "metadata": {
        "id": "ZohXkMj2dfBw"
      },
      "execution_count": null,
      "outputs": []
    },
    {
      "cell_type": "code",
      "source": [
        "studentIds.values()"
      ],
      "metadata": {
        "id": "UG9vBDc0dmty"
      },
      "execution_count": null,
      "outputs": []
    },
    {
      "cell_type": "code",
      "source": [
        "studentIds.items()"
      ],
      "metadata": {
        "id": "HhEc1RKadngU"
      },
      "execution_count": null,
      "outputs": []
    },
    {
      "cell_type": "code",
      "source": [
        "len(studentIds)"
      ],
      "metadata": {
        "id": "kixw-cZ2dnpf"
      },
      "execution_count": null,
      "outputs": []
    },
    {
      "cell_type": "markdown",
      "source": [
        "As with nested lists, you can also create dictionaries of dictionaries.\n",
        "\n",
        "# Writing Scripts\n",
        "\n",
        "Now that you’ve got a handle on using Python interactively, let’s write a simple Python script that demonstrates Python’s for loop."
      ],
      "metadata": {
        "id": "D3XsI_nPdy_2"
      }
    },
    {
      "cell_type": "code",
      "source": [
        "# This is what a comment looks like\n",
        "fruits = ['apples', 'oranges', 'pears', 'bananas']\n",
        "for fruit in fruits:\n",
        "    print(fruit + ' for sale')"
      ],
      "metadata": {
        "id": "jBA0-oi0dvV4"
      },
      "execution_count": null,
      "outputs": []
    },
    {
      "cell_type": "code",
      "source": [
        "fruitPrices = {'apples': 2.00, 'oranges': 1.50, 'pears': 1.75}\n",
        "for fruit, price in fruitPrices.items():\n",
        "    if price < 2.00:\n",
        "        print('%s cost %f a pound' % (fruit, price))\n",
        "    else:\n",
        "        print(fruit + ' are too expensive!')"
      ],
      "metadata": {
        "id": "9IFdvYEvdv3E"
      },
      "execution_count": null,
      "outputs": []
    },
    {
      "cell_type": "markdown",
      "source": [
        "If you like functional programming you might also like map and filter:"
      ],
      "metadata": {
        "id": "BKoBOnwaeK4-"
      }
    },
    {
      "cell_type": "code",
      "source": [
        "list(map(lambda x: x * x, [1, 2, 3]))"
      ],
      "metadata": {
        "id": "kb5Hss_IeIDz"
      },
      "execution_count": null,
      "outputs": []
    },
    {
      "cell_type": "code",
      "source": [
        " list(filter(lambda x: x > 3, [1, 2, 3, 4, 5, 4, 3, 2, 1]))"
      ],
      "metadata": {
        "id": "3yRJZrumlIpl"
      },
      "execution_count": null,
      "outputs": []
    },
    {
      "cell_type": "markdown",
      "source": [
        "The next snippet of code demonstrates Python’s list comprehension construction:\n",
        "\n"
      ],
      "metadata": {
        "id": "0ehJdLGQlQRP"
      }
    },
    {
      "cell_type": "code",
      "source": [
        "nums = [1, 2, 3, 4, 5, 6]\n",
        "plusOneNums = [x + 1 for x in nums]\n",
        "oddNums = [x for x in nums if x % 2 == 1]\n",
        "print(oddNums)\n",
        "oddNumsPlusOne = [x + 1 for x in nums if x % 2 == 1]\n",
        "print(oddNumsPlusOne)\n"
      ],
      "metadata": {
        "id": "hfKVSTE7lOfb"
      },
      "execution_count": null,
      "outputs": []
    },
    {
      "cell_type": "markdown",
      "source": [
        "# Beware of Indendation!\n",
        "\n",
        "Unlike many other languages, Python uses the indentation in the source code for interpretation. So for instance, for the following script:"
      ],
      "metadata": {
        "id": "PIQGbc0RlhcI"
      }
    },
    {
      "cell_type": "code",
      "source": [
        "if 0 == 1:\n",
        "    print('We are in a world of arithmetic pain')\n",
        "print('Thank you for playing')"
      ],
      "metadata": {
        "id": "AuUALDxPlcQn"
      },
      "execution_count": null,
      "outputs": []
    },
    {
      "cell_type": "markdown",
      "source": [
        "But if we had written the script as"
      ],
      "metadata": {
        "id": "7-_Ofw86l8xv"
      }
    },
    {
      "cell_type": "code",
      "source": [
        "if 0 == 1:\n",
        "    print('We are in a world of arithmetic pain')\n",
        "    print('Thank you for playing')"
      ],
      "metadata": {
        "id": "-jsq9i0Sls7-"
      },
      "execution_count": null,
      "outputs": []
    },
    {
      "cell_type": "markdown",
      "source": [
        "there would be no output. The moral of the story: be careful how you indent! It’s best to use four spaces for indentation – that’s what the course code uses"
      ],
      "metadata": {
        "id": "BvEOe4brmF5W"
      }
    },
    {
      "cell_type": "markdown",
      "source": [
        "# Tabs vs Spaces\n",
        "\n",
        "Because Python uses indentation for code evaluation, it needs to keep track of the level of indentation across code blocks. This means that if your Python file switches from using tabs as indentation to spaces as indentation, the Python interpreter will not be able to resolve the ambiguity of the indentation level and throw an exception. Even though the code can be lined up visually in your text editor, Python “sees” a change in indentation and most likely will throw an exception (or rarely, produce unexpected behavior).\n",
        "\n",
        "This most commonly happens when opening up a Python file that uses an indentation scheme that is opposite from what your text editor uses (aka, your text editor uses spaces and the file uses tabs). When you write new lines in a code block, there will be a mix of tabs and spaces, even though the whitespace is aligned. For a longer discussion on tabs vs spaces, see this discussion on StackOverflow."
      ],
      "metadata": {
        "id": "lrBro8RCmOJ3"
      }
    },
    {
      "cell_type": "markdown",
      "source": [
        "# Writing Functions\n",
        "\n",
        "As in Java, in Python you can define your own functions:"
      ],
      "metadata": {
        "id": "N9672bujmuc8"
      }
    },
    {
      "cell_type": "code",
      "source": [
        "fruitPrices = {'apples': 2.00, 'oranges': 1.50, 'pears': 1.75}\n",
        "\n",
        "def buyFruit(fruit, numPounds):\n",
        "    if fruit not in fruitPrices:\n",
        "        print(\"Sorry we don't have %s\" % (fruit))\n",
        "    else:\n",
        "        cost = fruitPrices[fruit] * numPounds\n",
        "        print(\"That'll be %f please\" % (cost))\n",
        "\n",
        "# Main Function\n",
        "if __name__ == '__main__':\n",
        "    buyFruit('apples', 2.4)\n",
        "    buyFruit('coconuts', 2)\n"
      ],
      "metadata": {
        "id": "aLBESpr1ltaI"
      },
      "execution_count": null,
      "outputs": []
    },
    {
      "cell_type": "markdown",
      "source": [
        "Rather than having a main function as in Java, the __name__ == '__main__' check is used to delimit expressions which are executed when the file is called as a script from the command line. The code after the main check is thus the same sort of code you would put in a main function in Java."
      ],
      "metadata": {
        "id": "DtuanLTlm6M_"
      }
    },
    {
      "cell_type": "markdown",
      "source": [
        "# Object Basics\n",
        "\n",
        "Although this isn’t a class in object-oriented programming, you’ll have to use some objects in the programming projects, and so it’s worth covering the basics of objects in Python. An object encapsulates data and provides functions for interacting with that data."
      ],
      "metadata": {
        "id": "9SOTHfQqnADH"
      }
    },
    {
      "cell_type": "markdown",
      "source": [
        "# Defining Classes\n",
        "\n",
        "Here’s an example of defining a class named FruitShop:"
      ],
      "metadata": {
        "id": "9L6AwV1AnE3s"
      }
    },
    {
      "cell_type": "code",
      "source": [
        "class FruitShop:\n",
        "\n",
        "    def __init__(self, name, fruitPrices):\n",
        "        \"\"\"\n",
        "            name: Name of the fruit shop\n",
        "\n",
        "            fruitPrices: Dictionary with keys as fruit\n",
        "            strings and prices for values e.g.\n",
        "            {'apples': 2.00, 'oranges': 1.50, 'pears': 1.75}\n",
        "        \"\"\"\n",
        "        self.fruitPrices = fruitPrices\n",
        "        self.name = name\n",
        "        print('Welcome to %s fruit shop' % (name))\n",
        "\n",
        "    def getCostPerPound(self, fruit):\n",
        "        \"\"\"\n",
        "            fruit: Fruit string\n",
        "        Returns cost of 'fruit', assuming 'fruit'\n",
        "        is in our inventory or None otherwise\n",
        "        \"\"\"\n",
        "        if fruit not in self.fruitPrices:\n",
        "            return None\n",
        "        return self.fruitPrices[fruit]\n",
        "\n",
        "    def getPriceOfOrder(self, orderList):\n",
        "        \"\"\"\n",
        "            orderList: List of (fruit, numPounds) tuples\n",
        "\n",
        "        Returns cost of orderList, only including the values of\n",
        "        fruits that this fruit shop has.\n",
        "        \"\"\"\n",
        "        totalCost = 0.0\n",
        "        for fruit, numPounds in orderList:\n",
        "            costPerPound = self.getCostPerPound(fruit)\n",
        "            if costPerPound != None:\n",
        "                totalCost += numPounds * costPerPound\n",
        "        return totalCost\n",
        "\n",
        "    def getName(self):\n",
        "        return self.name\n"
      ],
      "metadata": {
        "id": "jvPf_2Ggltfb"
      },
      "execution_count": null,
      "outputs": []
    },
    {
      "cell_type": "markdown",
      "source": [
        "The FruitShop class has some data, the name of the shop and the prices per pound of some fruit, and it provides functions, or methods, on this data. What advantage is there to wrapping this data in a class?\n",
        "\n",
        "    Encapsulating the data prevents it from being altered or used inappropriately,\n",
        "    The abstraction that objects provide make it easier to write general-purpose code.\n"
      ],
      "metadata": {
        "id": "SnRmXi2_nUiI"
      }
    },
    {
      "cell_type": "markdown",
      "source": [
        "# Using Objects\n",
        "\n",
        "So how do we make an object and use it? Make sure you have the FruitShop implementation. Then, we can create FruitShop objects as follows:"
      ],
      "metadata": {
        "id": "LfRfuayfncYT"
      }
    },
    {
      "cell_type": "code",
      "source": [
        "class FruitShop:\n",
        "\n",
        "    def __init__(self, name, fruitPrices):\n",
        "        \"\"\"\n",
        "            name: Name of the fruit shop\n",
        "\n",
        "            fruitPrices: Dictionary with keys as fruit\n",
        "            strings and prices for values e.g.\n",
        "            {'apples':2.00, 'oranges': 1.50, 'pears': 1.75}\n",
        "        \"\"\"\n",
        "        self.fruitPrices = fruitPrices\n",
        "        self.name = name\n",
        "        print('Welcome to %s fruit shop' % (name))\n",
        "\n",
        "    def getCostPerPound(self, fruit):\n",
        "        \"\"\"\n",
        "            fruit: Fruit string\n",
        "        Returns cost of 'fruit', assuming 'fruit'\n",
        "        is in our inventory or None otherwise\n",
        "        \"\"\"\n",
        "        if fruit not in self.fruitPrices:\n",
        "            print(\"Sorry we don't have %s\" % (fruit))\n",
        "            return None\n",
        "        return self.fruitPrices[fruit]\n",
        "\n",
        "    def getPriceOfOrder(self, orderList):\n",
        "        \"\"\"\n",
        "            orderList: List of (fruit, numPounds) tuples\n",
        "\n",
        "        Returns cost of orderList. If any of the fruit are\n",
        "        \"\"\"\n",
        "        totalCost = 0.0\n",
        "        for fruit, numPounds in orderList:\n",
        "            costPerPound = self.getCostPerPound(fruit)\n",
        "            if costPerPound != None:\n",
        "                totalCost += numPounds * costPerPound\n",
        "        return totalCost\n",
        "\n",
        "    def getName(self):\n",
        "        return self.name\n",
        "\n",
        "    def __str__(self):\n",
        "        return \"<FruitShop: %s>\" % self.getName()\n"
      ],
      "metadata": {
        "id": "HbpJQU6xntzS"
      },
      "execution_count": null,
      "outputs": []
    },
    {
      "cell_type": "code",
      "source": [
        "shopName = 'the Berkeley Bowl'\n",
        "fruitPrices = {'apples': 1.00, 'oranges': 1.50, 'pears': 1.75}\n",
        "berkeleyShop = FruitShop(shopName, fruitPrices)\n",
        "applePrice = berkeleyShop.getCostPerPound('apples')\n",
        "print(applePrice)\n",
        "print('Apples cost $%.2f at %s.' % (applePrice, shopName))\n",
        "\n",
        "otherName = 'the Stanford Mall'\n",
        "otherFruitPrices = {'kiwis': 6.00, 'apples': 4.50, 'peaches': 8.75}\n",
        "otherFruitShop = FruitShop(otherName, otherFruitPrices)\n",
        "otherPrice = otherFruitShop.getCostPerPound('apples')\n",
        "print(otherPrice)\n",
        "print('Apples cost $%.2f at %s.' % (otherPrice, otherName))\n",
        "print(\"My, that's expensive!\")\n"
      ],
      "metadata": {
        "id": "dI3-7OgIluaN"
      },
      "execution_count": null,
      "outputs": []
    },
    {
      "cell_type": "markdown",
      "source": [
        "# Static vs Instance Variables\n",
        "\n",
        "The following example illustrates how to use static and instance variables in Python."
      ],
      "metadata": {
        "id": "X5XqnCC7qwHl"
      }
    },
    {
      "cell_type": "code",
      "source": [
        "class Person:\n",
        "    population = 0\n",
        "\n",
        "    def __init__(self, myAge):\n",
        "        self.age = myAge\n",
        "        Person.population += 1\n",
        "\n",
        "    def get_population(self):\n",
        "        return Person.population\n",
        "\n",
        "    def get_age(self):\n",
        "        return self.age\n"
      ],
      "metadata": {
        "id": "61ztSWlZngQ-"
      },
      "execution_count": null,
      "outputs": []
    },
    {
      "cell_type": "code",
      "source": [
        "p1 = Person(12)\n",
        "p1.get_population()\n"
      ],
      "metadata": {
        "id": "sCowui_TqzC_"
      },
      "execution_count": null,
      "outputs": []
    },
    {
      "cell_type": "code",
      "source": [
        "p2 = Person(63)\n",
        "p1.get_population()"
      ],
      "metadata": {
        "id": "NT_dzafOrFFH"
      },
      "execution_count": null,
      "outputs": []
    },
    {
      "cell_type": "code",
      "source": [
        "p2.get_population()"
      ],
      "metadata": {
        "id": "znpOt_4ZrKdd"
      },
      "execution_count": null,
      "outputs": []
    },
    {
      "cell_type": "code",
      "source": [
        "p1.get_age()"
      ],
      "metadata": {
        "id": "C0UkNN7PrOO4"
      },
      "execution_count": null,
      "outputs": []
    },
    {
      "cell_type": "code",
      "source": [
        "p2.get_age()"
      ],
      "metadata": {
        "id": "8-zt5K2urOpa"
      },
      "execution_count": null,
      "outputs": []
    },
    {
      "cell_type": "markdown",
      "source": [
        "In the code above, age is an instance variable and population is a static variable. population is shared by all instances of the Person class whereas each instance has its own age variable."
      ],
      "metadata": {
        "id": "PrSqJhkvrdG9"
      }
    },
    {
      "cell_type": "markdown",
      "source": [
        "# More Python Tips and Tricks\n",
        "\n",
        "This tutorial has briefly touched on some major aspects of Python that will be relevant to the course. Here are some more useful tidbits:\n",
        "\n",
        "Use range to generate a sequence of integers, useful for generating traditional indexed for loops:"
      ],
      "metadata": {
        "id": "CZZ4HN_arg5e"
      }
    },
    {
      "cell_type": "code",
      "source": [
        "for index in range(3):\n",
        "    print(lst[index])"
      ],
      "metadata": {
        "id": "-NsO9pWDr2a8"
      },
      "execution_count": null,
      "outputs": []
    },
    {
      "cell_type": "markdown",
      "source": [
        "Troubleshooting\n",
        "\n",
        "These are some problems (and their solutions) that new Python learners commonly encounter.\n",
        "\n",
        "Problem: ImportError: No module named py\n",
        "\n",
        "Solution: For import statements with import <package-name>, do not include the file extension (i.e. the .py string). For example, you should use: import shop NOT: import shop.py\n",
        "\n",
        "Problem: NameError: name ‘MY VARIABLE’ is not defined Even after importing you may see this.\n",
        "\n",
        "Solution: To access a member of a module, you have to type MODULE NAME.MEMBER NAME, where MODULE NAME is the name of the .py file, and MEMBER NAME is the name of the variable (or function) you are trying to access.\n",
        "\n",
        "Problem: TypeError: ‘dict’ object is not callable\n",
        "\n",
        "Solution: Dictionary looks up are done using square brackets: [ and ]. NOT parenthesis: ( and ).\n",
        "\n",
        "Problem: ValueError: too many values to unpack\n",
        "\n",
        "Solution: Make sure the number of variables you are assigning in a for loop matches the number of elements in each item of the list. Similarly for working with tuples.\n",
        "\n",
        "For example, if pair is a tuple of two elements (e.g. pair =('apple', 2.0)) then the following code would cause the “too many values to unpack error”:\n",
        "\n",
        "(a, b, c) = pair"
      ],
      "metadata": {
        "id": "3wmQtYkhr69y"
      }
    },
    {
      "cell_type": "markdown",
      "source": [
        "##More References\n",
        "\n",
        "1.  The place to go for more Python information: www.python.org\n",
        "2.  A good reference book: [Learning Python](http://oreilly.com/catalog/9780596513986/)\n",
        "\n",
        "\n"
      ],
      "metadata": {
        "id": "-o21I2ryclgH"
      }
    }
  ]
}