{
  "cells": [
    {
      "cell_type": "markdown",
      "metadata": {
        "id": "niV2fFkQLfxv"
      },
      "source": [
        "## This simple notebook shows how to compute the validity, satisfiability, and entailment for logical sentences and to set up a simple KB agent for propositional logic with functions from AIMA logic.py"
      ]
    },
    {
      "cell_type": "markdown",
      "metadata": {
        "id": "b9alRCRqLfx0"
      },
      "source": [
        "You can run this jupter notebook on your local computer if you cd to your hw3 directory since all of the AIMA files it needs are included in it.  You will probably need to use pip to install **sortedcontainsers**\n",
        "\n",
        "To run on **Colab**, make sure you are logged into Google, uncomment the lines in the following cell, and run it once. This asks the operating system to pip install a package required by logic.py, clone the aima repository in your temporarary file system and then cd to the aima directory so you can import python files.\n",
        "\n",
        "You may find it helpful to look at the code in the aima [logic.py](https://github.com/aimacode/aima-python/blob/master/logic.py) file\n"
      ]
    },
    {
      "cell_type": "code",
      "source": [
        "!pip -q install qpsolvers\n",
        "!pip -q install notebook\n",
        "!pip -q install ipythonblocks\n",
        "!git clone https://github.com/aimacode/aima-python.git;\n",
        "%cd aima-python"
      ],
      "metadata": {
        "colab": {
          "base_uri": "https://localhost:8080/"
        },
        "id": "rWSecw77PoOU",
        "outputId": "5349a3e7-ac04-4716-961b-77bacbc442ed"
      },
      "execution_count": 1,
      "outputs": [
        {
          "output_type": "stream",
          "name": "stdout",
          "text": [
            "\u001b[2K     \u001b[90m━━━━━━━━━━━━━━━━━━━━━━━━━━━━━━━━━━━━━━━━\u001b[0m \u001b[32m83.7/83.7 kB\u001b[0m \u001b[31m2.0 MB/s\u001b[0m eta \u001b[36m0:00:00\u001b[0m\n",
            "\u001b[2K     \u001b[90m━━━━━━━━━━━━━━━━━━━━━━━━━━━━━━━━━━━━━━━━\u001b[0m \u001b[32m459.0/459.0 kB\u001b[0m \u001b[31m11.8 MB/s\u001b[0m eta \u001b[36m0:00:00\u001b[0m\n",
            "\u001b[2K     \u001b[90m━━━━━━━━━━━━━━━━━━━━━━━━━━━━━━━━━━━━━━━━\u001b[0m \u001b[32m1.6/1.6 MB\u001b[0m \u001b[31m17.1 MB/s\u001b[0m eta \u001b[36m0:00:00\u001b[0m\n",
            "\u001b[?25hfatal: destination path 'aima-python' already exists and is not an empty directory.\n",
            "/content/aima-python\n"
          ]
        }
      ]
    },
    {
      "cell_type": "code",
      "execution_count": 2,
      "metadata": {
        "id": "FvLSEMI0Lfx1"
      },
      "outputs": [],
      "source": [
        "from logic import *"
      ]
    },
    {
      "cell_type": "markdown",
      "metadata": {
        "id": "emUQJu1tLfx1"
      },
      "source": [
        "The AIMA logic.py function **expr** to create an **Expression object** from a string in which identifiers are automatically defined as Symbols and ==> is treated as an infix |'==>'|, as are <== and <=>. If the argument is already an Expression, it is returned unchanged."
      ]
    },
    {
      "cell_type": "code",
      "execution_count": 3,
      "metadata": {
        "id": "Yui9c0HlLfx2"
      },
      "outputs": [],
      "source": [
        "foo = expr('P ==> Q')"
      ]
    },
    {
      "cell_type": "markdown",
      "metadata": {
        "id": "DDmSQRVcLfx2"
      },
      "source": [
        "The expr class (in utils.py) has a __repr__ method that is called when an instance is printed to return a string representation."
      ]
    },
    {
      "cell_type": "code",
      "execution_count": 4,
      "metadata": {
        "colab": {
          "base_uri": "https://localhost:8080/"
        },
        "id": "-cthPJ4-Lfx2",
        "outputId": "2bee4936-6285-4cd5-e3f8-cc44f85d6d09"
      },
      "outputs": [
        {
          "output_type": "stream",
          "name": "stdout",
          "text": [
            "type:<class 'utils.Expr'>; (P ==> Q)\n"
          ]
        }
      ],
      "source": [
        "print(f\"type:{type(foo)}; {foo}\")"
      ]
    },
    {
      "cell_type": "markdown",
      "metadata": {
        "id": "1PtZcls0Lfx3"
      },
      "source": [
        "Since a **knowledge base** (KB) is just a set of sentences that are all taken to be true, we can represent it as a conjunction of sentences.  This next expr can be thought of as a KB with three sentences."
      ]
    },
    {
      "cell_type": "code",
      "execution_count": 5,
      "metadata": {
        "colab": {
          "base_uri": "https://localhost:8080/"
        },
        "id": "wfPjQue2Lfx3",
        "outputId": "f76a340f-0383-4fc8-ef59-447ba5445a9a"
      },
      "outputs": [
        {
          "output_type": "execute_result",
          "data": {
            "text/plain": [
              "((P & (P ==> Q)) & (~P ==> R))"
            ]
          },
          "metadata": {},
          "execution_count": 5
        }
      ],
      "source": [
        "expr('P & (P ==> Q) & (~P ==> R)')"
      ]
    },
    {
      "cell_type": "markdown",
      "metadata": {
        "id": "LMJa5FnbLfx4"
      },
      "source": [
        "The **tt_true** function checks an expression object to see if it is valid, i.e., true in all possible models.  A valid sentence is true for all possible assignments of true and false to its variables."
      ]
    },
    {
      "cell_type": "code",
      "execution_count": 6,
      "metadata": {
        "colab": {
          "base_uri": "https://localhost:8080/"
        },
        "id": "W2dowDzaLfx4",
        "outputId": "ad56473f-6709-49d4-99b9-2287bab786b9"
      },
      "outputs": [
        {
          "output_type": "execute_result",
          "data": {
            "text/plain": [
              "False"
            ]
          },
          "metadata": {},
          "execution_count": 6
        }
      ],
      "source": [
        "tt_true(expr('P'))"
      ]
    },
    {
      "cell_type": "code",
      "execution_count": 7,
      "metadata": {
        "colab": {
          "base_uri": "https://localhost:8080/"
        },
        "id": "-ovFE01zLfx4",
        "outputId": "87329698-6bf1-41e1-a932-8ca6b1978114"
      },
      "outputs": [
        {
          "output_type": "execute_result",
          "data": {
            "text/plain": [
              "True"
            ]
          },
          "metadata": {},
          "execution_count": 7
        }
      ],
      "source": [
        "tt_true(expr('P | ~ P'))"
      ]
    },
    {
      "cell_type": "code",
      "execution_count": 8,
      "metadata": {
        "colab": {
          "base_uri": "https://localhost:8080/"
        },
        "id": "KaXmUSWPLfx4",
        "outputId": "a6a66fa5-6be7-4438-bfff-89a132ba8e00"
      },
      "outputs": [
        {
          "output_type": "execute_result",
          "data": {
            "text/plain": [
              "True"
            ]
          },
          "metadata": {},
          "execution_count": 8
        }
      ],
      "source": [
        "tt_true(expr('(P ==> Q) <=> (~P | Q)'))"
      ]
    },
    {
      "cell_type": "markdown",
      "metadata": {
        "id": "a45vohFFLfx5"
      },
      "source": [
        "**dpll_satisfiable** checks satisfiability of a propositional sentence, returning a *model* if it is satisfiable and *False* if not.  The model is represented as dictionary with the propositional variables as the keys and True or Fase as their values."
      ]
    },
    {
      "cell_type": "code",
      "execution_count": 9,
      "metadata": {
        "colab": {
          "base_uri": "https://localhost:8080/"
        },
        "id": "cy4jYS-_Lfx5",
        "outputId": "45a33e33-2923-4a74-b7a3-42712b1f4ef8"
      },
      "outputs": [
        {
          "output_type": "execute_result",
          "data": {
            "text/plain": [
              "{Q: True, P: True}"
            ]
          },
          "metadata": {},
          "execution_count": 9
        }
      ],
      "source": [
        "dpll_satisfiable(expr('P & Q'))"
      ]
    },
    {
      "cell_type": "markdown",
      "metadata": {
        "id": "rIX9juFoLfx5"
      },
      "source": [
        "Note that if there are multiple ways that a sentence can be satisfied, only one model is shown and it may be a minimal model, i.e., not including vaues for variables that can be either True or False."
      ]
    },
    {
      "cell_type": "code",
      "execution_count": 10,
      "metadata": {
        "colab": {
          "base_uri": "https://localhost:8080/"
        },
        "id": "0uAOBFR2Lfx6",
        "outputId": "a5537520-a264-417d-c540-74f2791ff9a8"
      },
      "outputs": [
        {
          "output_type": "execute_result",
          "data": {
            "text/plain": [
              "{Q: True}"
            ]
          },
          "metadata": {},
          "execution_count": 10
        }
      ],
      "source": [
        "dpll_satisfiable(expr('P | Q'))"
      ]
    },
    {
      "cell_type": "code",
      "execution_count": null,
      "metadata": {
        "colab": {
          "base_uri": "https://localhost:8080/"
        },
        "id": "4E5VZ26ULfx6",
        "outputId": "98cc6b5b-48ad-4bad-f6fc-742dd9b9cce3"
      },
      "outputs": [
        {
          "output_type": "execute_result",
          "data": {
            "text/plain": [
              "{P: True, Q: False}"
            ]
          },
          "metadata": {},
          "execution_count": 9
        }
      ],
      "source": [
        "dpll_satisfiable(expr('P & ~Q'))"
      ]
    },
    {
      "cell_type": "markdown",
      "metadata": {
        "id": "CXN5zRn7BjYL"
      },
      "source": [
        "For this example, if Q is true, P can be either True or False, so this is a minimal model."
      ]
    },
    {
      "cell_type": "code",
      "execution_count": null,
      "metadata": {
        "colab": {
          "base_uri": "https://localhost:8080/"
        },
        "id": "1htAY3z1Lfx6",
        "outputId": "31aaf8b0-3778-4343-ed8c-39fe8df6bf0f"
      },
      "outputs": [
        {
          "output_type": "execute_result",
          "data": {
            "text/plain": [
              "{Q: True}"
            ]
          },
          "metadata": {},
          "execution_count": 10
        }
      ],
      "source": [
        "dpll_satisfiable(expr('P ==> Q'))"
      ]
    },
    {
      "cell_type": "markdown",
      "metadata": {
        "id": "W4liYan1BjYL"
      },
      "source": [
        "dpll_satisfiable takes a single sentence, but it can be arbitrarily comlex, like this conjunction of three simple expressions"
      ]
    },
    {
      "cell_type": "code",
      "execution_count": null,
      "metadata": {
        "colab": {
          "base_uri": "https://localhost:8080/"
        },
        "id": "_KNcgyE1Lfx6",
        "outputId": "fb2ac116-469e-4b51-a36d-e3f4f5b27b7c"
      },
      "outputs": [
        {
          "output_type": "execute_result",
          "data": {
            "text/plain": [
              "{P: True, Q: True}"
            ]
          },
          "metadata": {},
          "execution_count": 11
        }
      ],
      "source": [
        "dpll_satisfiable(expr('P & (P ==> Q) & (~P ==> R)'))"
      ]
    },
    {
      "cell_type": "markdown",
      "metadata": {
        "id": "GRC6dNDpLfx7"
      },
      "source": [
        "The following KB can not be satisfied, since if P is true, then Q must also be true, but the KB says that Q is false."
      ]
    },
    {
      "cell_type": "code",
      "execution_count": 4,
      "metadata": {
        "colab": {
          "base_uri": "https://localhost:8080/"
        },
        "id": "TI-UvikmLfx7",
        "outputId": "d61c6e48-9e9e-439e-a232-953cfd03eea1"
      },
      "outputs": [
        {
          "output_type": "execute_result",
          "data": {
            "text/plain": [
              "False"
            ]
          },
          "metadata": {},
          "execution_count": 4
        }
      ],
      "source": [
        "dpll_satisfiable(expr('P & (P ==> Q) & (~P ==> R) & ~Q'))"
      ]
    },
    {
      "cell_type": "markdown",
      "metadata": {
        "id": "GycyXd8Y6ukb"
      },
      "source": [
        "**tt_entails** uses a simple model checking proceedure can determine if a knowledge base (a conjunction of propositional expressions) entails another (see section 7.4 in our text)"
      ]
    },
    {
      "cell_type": "code",
      "execution_count": null,
      "metadata": {
        "colab": {
          "base_uri": "https://localhost:8080/"
        },
        "id": "zGBPyE635Vqc",
        "outputId": "2c2560da-c017-47b8-f565-faed76c9957c"
      },
      "outputs": [
        {
          "output_type": "execute_result",
          "data": {
            "text/plain": [
              "True"
            ]
          },
          "metadata": {},
          "execution_count": 13
        }
      ],
      "source": [
        "tt_entails(expr('P & Q'), expr('Q'))"
      ]
    },
    {
      "cell_type": "code",
      "execution_count": null,
      "metadata": {
        "colab": {
          "base_uri": "https://localhost:8080/"
        },
        "id": "vZnbxsDx7tlP",
        "outputId": "212213d7-6bea-4b8c-a18a-2de3d51e44fc"
      },
      "outputs": [
        {
          "output_type": "execute_result",
          "data": {
            "text/plain": [
              "False"
            ]
          },
          "metadata": {},
          "execution_count": 14
        }
      ],
      "source": [
        "tt_entails(expr('P | Q'), expr('Q'))"
      ]
    },
    {
      "cell_type": "markdown",
      "metadata": {
        "id": "_4x3xGDJxtzu"
      },
      "source": [
        "We can also use **WalkSAT**, a function that uses local search.  It takes a list of clauses and checks for their satisfiability by randomly flipping values of the variables in them.  It returns None if no solution can be found within its alloted flips, which has a default of 10k.  This can often solve larger problems than dpll, but, although it is **sound**, it is not **complete**."
      ]
    },
    {
      "cell_type": "code",
      "execution_count": null,
      "metadata": {
        "colab": {
          "base_uri": "https://localhost:8080/"
        },
        "id": "9_zvD6Q0Lfx7",
        "outputId": "d702ccde-1f93-406d-98bd-510c8a64a2ba"
      },
      "outputs": [
        {
          "output_type": "execute_result",
          "data": {
            "text/plain": [
              "{P: True, Q: True, R: False}"
            ]
          },
          "metadata": {},
          "execution_count": 15
        }
      ],
      "source": [
        "WalkSAT([expr('P & (P ==> Q) & (~P ==> R)')])"
      ]
    },
    {
      "cell_type": "markdown",
      "metadata": {
        "id": "4JY6eHFyBjYN"
      },
      "source": [
        "WalkSAT returns None if it cannot find a model that satisfies the list of expressions.  Of course, Python does not print anything for input that evaluates to None, as the following eample shows."
      ]
    },
    {
      "cell_type": "code",
      "execution_count": null,
      "metadata": {
        "id": "d55FGf34zjT0"
      },
      "outputs": [],
      "source": [
        "WalkSAT([expr('P & (P ==> Q) & (~P ==> R) & ~Q')])"
      ]
    },
    {
      "cell_type": "markdown",
      "metadata": {
        "id": "d7OGZOSDBjYN"
      },
      "source": [
        "Here's a case there the set of sentences is empty, so it should return an empty model in the form of an empty dictionary"
      ]
    },
    {
      "cell_type": "code",
      "execution_count": null,
      "metadata": {
        "id": "HWPbgdTUBjYN",
        "colab": {
          "base_uri": "https://localhost:8080/"
        },
        "outputId": "3bf95407-c269-4ada-9f8f-935c3dfe1861"
      },
      "outputs": [
        {
          "output_type": "execute_result",
          "data": {
            "text/plain": [
              "{}"
            ]
          },
          "metadata": {},
          "execution_count": 16
        }
      ],
      "source": [
        "WalkSAT([])"
      ]
    },
    {
      "cell_type": "markdown",
      "metadata": {
        "id": "Pr7ppnm5BjYO"
      },
      "source": [
        "**PropKB** is  a class for a KB of propositions.  We'll create **kb1** as a new knowledge base"
      ]
    },
    {
      "cell_type": "code",
      "execution_count": null,
      "metadata": {
        "id": "5O86cUEmBjYO"
      },
      "outputs": [],
      "source": [
        "kb1 = PropKB()"
      ]
    },
    {
      "cell_type": "markdown",
      "metadata": {
        "id": "P6A8ZoINBjYO"
      },
      "source": [
        "and add several sentences to it"
      ]
    },
    {
      "cell_type": "code",
      "execution_count": null,
      "metadata": {
        "id": "eQghjDp0BjYO"
      },
      "outputs": [],
      "source": [
        "kb1.tell(expr('P ==> Q'))\n",
        "kb1.tell(expr('Q ==> R'))"
      ]
    },
    {
      "cell_type": "markdown",
      "metadata": {
        "id": "jYaPAN0kBjYO"
      },
      "source": [
        "The KB does not know and cannot infer that R is True"
      ]
    },
    {
      "cell_type": "code",
      "execution_count": null,
      "metadata": {
        "id": "ujdU3fTVBjYO",
        "outputId": "97ff0f52-a63c-4e3b-8b09-378b83cbac9c",
        "colab": {
          "base_uri": "https://localhost:8080/"
        }
      },
      "outputs": [
        {
          "output_type": "execute_result",
          "data": {
            "text/plain": [
              "False"
            ]
          },
          "metadata": {},
          "execution_count": 20
        }
      ],
      "source": [
        "kb1.ask_if_true(expr('R'))"
      ]
    },
    {
      "cell_type": "markdown",
      "metadata": {
        "id": "E3uxHgcaBjYO"
      },
      "source": [
        "If we add P to the KB, it can infer Q and then R"
      ]
    },
    {
      "cell_type": "code",
      "execution_count": null,
      "metadata": {
        "id": "OlvTo8sMBjYP"
      },
      "outputs": [],
      "source": [
        "kb1.tell(expr('P'))"
      ]
    },
    {
      "cell_type": "code",
      "execution_count": null,
      "metadata": {
        "id": "V2eA2HYBBjYP",
        "outputId": "7a813563-5f41-4351-e34a-cd0030e38448",
        "colab": {
          "base_uri": "https://localhost:8080/"
        }
      },
      "outputs": [
        {
          "output_type": "execute_result",
          "data": {
            "text/plain": [
              "True"
            ]
          },
          "metadata": {},
          "execution_count": 22
        }
      ],
      "source": [
        "kb1.ask_if_true(expr('R'))"
      ]
    },
    {
      "cell_type": "markdown",
      "metadata": {
        "id": "NwFFHK129DVz"
      },
      "source": [
        "The clauses property of a KB holds the facts in conjunctive normal form"
      ]
    },
    {
      "cell_type": "code",
      "execution_count": null,
      "metadata": {
        "id": "cngdj7GL8l9x",
        "outputId": "ac1b7dc3-a9bc-4bc1-d2be-bfdaae04142e",
        "colab": {
          "base_uri": "https://localhost:8080/"
        }
      },
      "outputs": [
        {
          "output_type": "execute_result",
          "data": {
            "text/plain": [
              "[(Q | ~P), (R | ~Q), P]"
            ]
          },
          "metadata": {},
          "execution_count": 23
        }
      ],
      "source": [
        "kb1.clauses"
      ]
    },
    {
      "cell_type": "markdown",
      "metadata": {
        "id": "wWRRsZ_R-XXo"
      },
      "source": [
        "If we have an inconsistant KB, this simple proceedure wil prove that anything is true"
      ]
    },
    {
      "cell_type": "code",
      "execution_count": null,
      "metadata": {
        "id": "aX6sL0FN9xxx",
        "outputId": "2ade92ac-aaa0-403b-d6af-d1f6bff0d7fd"
      },
      "outputs": [
        {
          "data": {
            "text/plain": [
              "[(Q | ~P), (R | ~Q), P, ~P]"
            ]
          },
          "execution_count": 26,
          "metadata": {},
          "output_type": "execute_result"
        }
      ],
      "source": [
        "kb1.tell(expr('~P'))\n",
        "kb1.clauses"
      ]
    },
    {
      "cell_type": "code",
      "execution_count": null,
      "metadata": {
        "id": "hulQ3siI-J4a",
        "outputId": "bf41e81e-7424-4bb0-f720-d4e8aec47157",
        "colab": {
          "base_uri": "https://localhost:8080/"
        }
      },
      "outputs": [
        {
          "output_type": "execute_result",
          "data": {
            "text/plain": [
              "False"
            ]
          },
          "metadata": {},
          "execution_count": 25
        }
      ],
      "source": [
        "kb1.ask_if_true(expr('X'))"
      ]
    },
    {
      "cell_type": "code",
      "execution_count": null,
      "metadata": {
        "id": "mPdN7MHZA7z-",
        "outputId": "b3ae4fb6-b056-4f4b-92f6-4eb76ded63de",
        "colab": {
          "base_uri": "https://localhost:8080/"
        }
      },
      "outputs": [
        {
          "output_type": "execute_result",
          "data": {
            "text/plain": [
              "False"
            ]
          },
          "metadata": {},
          "execution_count": 26
        }
      ],
      "source": [
        "kb1.ask_if_true(expr('~X'))"
      ]
    },
    {
      "cell_type": "markdown",
      "metadata": {
        "id": "uLommWQf7waz"
      },
      "source": [
        "### *fin*"
      ]
    }
  ],
  "metadata": {
    "colab": {
      "provenance": []
    },
    "kernelspec": {
      "display_name": "Python 3 (ipykernel)",
      "language": "python",
      "name": "python3"
    },
    "language_info": {
      "codemirror_mode": {
        "name": "ipython",
        "version": 3
      },
      "file_extension": ".py",
      "mimetype": "text/x-python",
      "name": "python",
      "nbconvert_exporter": "python",
      "pygments_lexer": "ipython3",
      "version": "3.9.7"
    }
  },
  "nbformat": 4,
  "nbformat_minor": 0
}